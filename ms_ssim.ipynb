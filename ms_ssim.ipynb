{
 "cells": [
  {
   "cell_type": "code",
   "execution_count": 1,
   "metadata": {},
   "outputs": [],
   "source": [
    "import torch\n",
    "import importlib"
   ]
  },
  {
   "cell_type": "code",
   "execution_count": 2,
   "metadata": {},
   "outputs": [],
   "source": [
    "import pytorch_ssim\n",
    "pytorch_ssim = importlib.reload(pytorch_ssim)"
   ]
  },
  {
   "cell_type": "code",
   "execution_count": 3,
   "metadata": {},
   "outputs": [],
   "source": [
    "import ms_ssim_baseline"
   ]
  },
  {
   "cell_type": "code",
   "execution_count": 4,
   "metadata": {},
   "outputs": [],
   "source": [
    "from PIL import Image\n",
    "import numpy as np"
   ]
  },
  {
   "cell_type": "code",
   "execution_count": 5,
   "metadata": {},
   "outputs": [],
   "source": [
    "img1 = Image.open('/Users/shenberg/Downloads/ronny_psycheledic.jpg')\n",
    "i1 = np.array(img1)[None, ...]"
   ]
  },
  {
   "cell_type": "code",
   "execution_count": 6,
   "metadata": {},
   "outputs": [
    {
     "data": {
      "text/plain": [
       "(1, 934, 1400, 3)"
      ]
     },
     "execution_count": 6,
     "metadata": {},
     "output_type": "execute_result"
    }
   ],
   "source": [
    "i1.shape"
   ]
  },
  {
   "cell_type": "code",
   "execution_count": 7,
   "metadata": {},
   "outputs": [],
   "source": [
    "i2 = i1*0.875 + 0.125*np.random.uniform(0,255,i1.shape)"
   ]
  },
  {
   "cell_type": "code",
   "execution_count": 8,
   "metadata": {},
   "outputs": [
    {
     "name": "stdout",
     "output_type": "stream",
     "text": [
      "[ 0.54662894  0.83758567  0.95898881  0.98758793  0.99166316]\n",
      "[ 0.5136332   0.78563175  0.90415816  0.94226102  0.96212063]\n"
     ]
    },
    {
     "data": {
      "text/plain": [
       "0.90633922236205355"
      ]
     },
     "execution_count": 8,
     "metadata": {},
     "output_type": "execute_result"
    }
   ],
   "source": [
    "ms_ssim_baseline.MultiScaleSSIM(i1, i2)"
   ]
  },
  {
   "cell_type": "code",
   "execution_count": 9,
   "metadata": {},
   "outputs": [
    {
     "name": "stdout",
     "output_type": "stream",
     "text": [
      "[ 0.54662894  0.83758567  0.95898881  0.98758793  0.99166316]\n",
      "[ 0.5136332   0.78563175  0.90415816  0.94226102  0.96212063]\n"
     ]
    },
    {
     "data": {
      "text/plain": [
       "0.90633922236205244"
      ]
     },
     "execution_count": 9,
     "metadata": {},
     "output_type": "execute_result"
    }
   ],
   "source": [
    "ms_ssim_baseline.MultiScaleSSIM(i1/255, i2/255, max_val=1.)"
   ]
  },
  {
   "cell_type": "code",
   "execution_count": 10,
   "metadata": {},
   "outputs": [
    {
     "data": {
      "text/plain": [
       "\n",
       " 0\n",
       " 0\n",
       "[torch.FloatTensor of size 2]"
      ]
     },
     "execution_count": 10,
     "metadata": {},
     "output_type": "execute_result"
    }
   ],
   "source": [
    "o = torch.ones(2,1)\n",
    "z = torch.zeros(2,1)\n",
    "(torch.cat([o+o,z,z,o+o],dim=1)**torch.Tensor([2,1,1,3])).prod(dim=1)"
   ]
  },
  {
   "cell_type": "code",
   "execution_count": 15,
   "metadata": {},
   "outputs": [],
   "source": [
    "msssim = pytorch_ssim.MS_SSIM(max_val=255)"
   ]
  },
  {
   "cell_type": "code",
   "execution_count": 12,
   "metadata": {},
   "outputs": [],
   "source": [
    "pi1 = torch.Tensor(i1)\n",
    "pi2 = torch.Tensor(i2)\n",
    "\n",
    "pi1 = pi1.permute(0,3,1,2)\n",
    "pi2 = pi2.permute(0,3,1,2)"
   ]
  },
  {
   "cell_type": "code",
   "execution_count": 16,
   "metadata": {},
   "outputs": [
    {
     "name": "stdout",
     "output_type": "stream",
     "text": [
      "[Variable containing:\n",
      " 0.5466\n",
      "[torch.FloatTensor of size 1]\n",
      ", Variable containing:\n",
      " 0.8376\n",
      "[torch.FloatTensor of size 1]\n",
      ", Variable containing:\n",
      " 0.9590\n",
      "[torch.FloatTensor of size 1]\n",
      ", Variable containing:\n",
      " 0.9876\n",
      "[torch.FloatTensor of size 1]\n",
      ", Variable containing:\n",
      " 0.9917\n",
      "[torch.FloatTensor of size 1]\n",
      "]\n",
      "Variable containing:\n",
      " 0.9631\n",
      "[torch.FloatTensor of size 1]\n",
      "\n"
     ]
    },
    {
     "data": {
      "text/plain": [
       "Variable containing:\n",
       " 0.9065\n",
       "[torch.FloatTensor of size 1]"
      ]
     },
     "execution_count": 16,
     "metadata": {},
     "output_type": "execute_result"
    }
   ],
   "source": [
    "msssim(torch.autograd.Variable(pi1), torch.autograd.Variable(pi2))"
   ]
  },
  {
   "cell_type": "code",
   "execution_count": 14,
   "metadata": {},
   "outputs": [
    {
     "data": {
      "text/plain": [
       "\n",
       " 1  0\n",
       " 1  0\n",
       "[torch.FloatTensor of size 2x2]"
      ]
     },
     "execution_count": 14,
     "metadata": {},
     "output_type": "execute_result"
    }
   ],
   "source": [
    "torch.stack([torch.ones(2), torch.zeros(2)], dim=1)"
   ]
  }
 ],
 "metadata": {
  "kernelspec": {
   "display_name": "Python 3",
   "language": "python",
   "name": "python3"
  },
  "language_info": {
   "codemirror_mode": {
    "name": "ipython",
    "version": 3
   },
   "file_extension": ".py",
   "mimetype": "text/x-python",
   "name": "python",
   "nbconvert_exporter": "python",
   "pygments_lexer": "ipython3",
   "version": "3.6.3"
  }
 },
 "nbformat": 4,
 "nbformat_minor": 2
}
